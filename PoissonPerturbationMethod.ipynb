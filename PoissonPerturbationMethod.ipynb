{
 "cells": [
  {
   "cell_type": "markdown",
   "source": [
    "# Poisson's Perturbation Method\n",
    "\n",
    "Let's assume a following ODE:\n",
    "\n",
    "$$ \\frac{d^2y}{dt^2} + a \\frac{dy}{dt} + y + \\epsilon \\left( \\frac{dy}{dt} \\right)^3 = 0 $$"
   ],
   "metadata": {
    "collapsed": false
   },
   "id": "db6c3588ef4f6aea"
  },
  {
   "cell_type": "code",
   "outputs": [],
   "source": [
    "from CommonFunctions import *\n",
    "import sympy as sp\n",
    "import numpy as np\n",
    "from matplotlib import pyplot as plt"
   ],
   "metadata": {
    "collapsed": false,
    "ExecuteTime": {
     "end_time": "2024-03-14T21:42:25.171170700Z",
     "start_time": "2024-03-14T21:42:24.047671600Z"
    }
   },
   "id": "dfe74dbfee349053",
   "execution_count": 1
  },
  {
   "cell_type": "code",
   "outputs": [
    {
     "data": {
      "text/plain": "(y_0(t), y_1(t))"
     },
     "execution_count": 2,
     "metadata": {},
     "output_type": "execute_result"
    }
   ],
   "source": [
    "t, epsilon, a = sp.symbols('t epsilon a')\n",
    "y = sp.Function('y')(t)\n",
    "y_n = n_components_of_function(y, t, n=2)\n",
    "y_n"
   ],
   "metadata": {
    "collapsed": false,
    "ExecuteTime": {
     "end_time": "2024-03-14T21:42:25.186670600Z",
     "start_time": "2024-03-14T21:42:25.174170100Z"
    }
   },
   "id": "fbafeb7bd31c5b3b",
   "execution_count": 2
  },
  {
   "cell_type": "code",
   "outputs": [
    {
     "data": {
      "text/plain": "y_0(t)",
      "text/latex": "$\\displaystyle y_{0}{\\left(t \\right)}$"
     },
     "execution_count": 3,
     "metadata": {},
     "output_type": "execute_result"
    }
   ],
   "source": [
    "y_n[0]"
   ],
   "metadata": {
    "collapsed": false,
    "ExecuteTime": {
     "end_time": "2024-03-14T21:42:25.229171700Z",
     "start_time": "2024-03-14T21:42:25.188171800Z"
    }
   },
   "id": "2b395163a1ebc6c",
   "execution_count": 3
  },
  {
   "cell_type": "code",
   "outputs": [
    {
     "data": {
      "text/plain": "y_1(t)",
      "text/latex": "$\\displaystyle y_{1}{\\left(t \\right)}$"
     },
     "execution_count": 4,
     "metadata": {},
     "output_type": "execute_result"
    }
   ],
   "source": [
    "y_n[1]"
   ],
   "metadata": {
    "collapsed": false,
    "ExecuteTime": {
     "end_time": "2024-03-14T21:42:25.230670800Z",
     "start_time": "2024-03-14T21:42:25.204670900Z"
    }
   },
   "id": "9608001e377c6da0",
   "execution_count": 4
  },
  {
   "cell_type": "code",
   "outputs": [
    {
     "data": {
      "text/plain": "Eq(a*Derivative(y(t), t) + epsilon*Derivative(y(t), t)**3 + y(t) + Derivative(y(t), (t, 2)), 0)",
      "text/latex": "$\\displaystyle a \\frac{d}{d t} y{\\left(t \\right)} + \\epsilon \\left(\\frac{d}{d t} y{\\left(t \\right)}\\right)^{3} + y{\\left(t \\right)} + \\frac{d^{2}}{d t^{2}} y{\\left(t \\right)} = 0$"
     },
     "execution_count": 5,
     "metadata": {},
     "output_type": "execute_result"
    }
   ],
   "source": [
    "differential_equation = sp.Eq(y.diff(t, 2) + a*y.diff(t) + y + epsilon*y.diff(t)**3, 0, evaluate=False)\n",
    "differential_equation"
   ],
   "metadata": {
    "collapsed": false,
    "ExecuteTime": {
     "end_time": "2024-03-14T21:42:25.279670500Z",
     "start_time": "2024-03-14T21:42:25.222170600Z"
    }
   },
   "id": "aa9457f636482028",
   "execution_count": 5
  },
  {
   "cell_type": "markdown",
   "source": [
    "We assume $a = \\frac{1}{2}$"
   ],
   "metadata": {
    "collapsed": false
   },
   "id": "5b8a2bc5bcdf0c92"
  },
  {
   "cell_type": "code",
   "outputs": [
    {
     "data": {
      "text/plain": "Eq(epsilon*Derivative(y(t), t)**3 + y(t) + Derivative(y(t), t)/2 + Derivative(y(t), (t, 2)), 0)",
      "text/latex": "$\\displaystyle \\epsilon \\left(\\frac{d}{d t} y{\\left(t \\right)}\\right)^{3} + y{\\left(t \\right)} + \\frac{\\frac{d}{d t} y{\\left(t \\right)}}{2} + \\frac{d^{2}}{d t^{2}} y{\\left(t \\right)} = 0$"
     },
     "execution_count": 6,
     "metadata": {},
     "output_type": "execute_result"
    }
   ],
   "source": [
    "a_value = sp.Rational(1, 2)\n",
    "diff_eq = differential_equation.subs(a, a_value)\n",
    "diff_eq"
   ],
   "metadata": {
    "collapsed": false,
    "ExecuteTime": {
     "end_time": "2024-03-14T21:42:25.309170900Z",
     "start_time": "2024-03-14T21:42:25.281172500Z"
    }
   },
   "id": "18f14eb85f4bc776",
   "execution_count": 6
  },
  {
   "cell_type": "code",
   "outputs": [
    {
     "data": {
      "text/plain": "epsilon*y_1(t) + y_0(t)",
      "text/latex": "$\\displaystyle \\epsilon y_{1}{\\left(t \\right)} + y_{0}{\\left(t \\right)}$"
     },
     "execution_count": 7,
     "metadata": {},
     "output_type": "execute_result"
    }
   ],
   "source": [
    "P = orders_of_perturbation(y_n, epsilon)\n",
    "P"
   ],
   "metadata": {
    "collapsed": false,
    "ExecuteTime": {
     "end_time": "2024-03-14T21:42:25.311672200Z",
     "start_time": "2024-03-14T21:42:25.299171700Z"
    }
   },
   "id": "dcca01a6e1d32305",
   "execution_count": 7
  },
  {
   "cell_type": "markdown",
   "source": [
    "Let's substitute $y(t)$ with $P$"
   ],
   "metadata": {
    "collapsed": false
   },
   "id": "48867bdcc93930c1"
  },
  {
   "cell_type": "code",
   "outputs": [
    {
     "data": {
      "text/plain": "Eq(epsilon*y_1(t) + epsilon*Derivative(epsilon*y_1(t) + y_0(t), t)**3 + y_0(t) + Derivative(epsilon*y_1(t) + y_0(t), t)/2 + Derivative(epsilon*y_1(t) + y_0(t), (t, 2)), 0)",
      "text/latex": "$\\displaystyle \\epsilon y_{1}{\\left(t \\right)} + \\epsilon \\left(\\frac{\\partial}{\\partial t} \\left(\\epsilon y_{1}{\\left(t \\right)} + y_{0}{\\left(t \\right)}\\right)\\right)^{3} + y_{0}{\\left(t \\right)} + \\frac{\\frac{\\partial}{\\partial t} \\left(\\epsilon y_{1}{\\left(t \\right)} + y_{0}{\\left(t \\right)}\\right)}{2} + \\frac{\\partial^{2}}{\\partial t^{2}} \\left(\\epsilon y_{1}{\\left(t \\right)} + y_{0}{\\left(t \\right)}\\right) = 0$"
     },
     "execution_count": 8,
     "metadata": {},
     "output_type": "execute_result"
    }
   ],
   "source": [
    "diff_eq2 = diff_eq.subs(y, P)\n",
    "diff_eq2"
   ],
   "metadata": {
    "collapsed": false,
    "ExecuteTime": {
     "end_time": "2024-03-14T21:42:25.341670400Z",
     "start_time": "2024-03-14T21:42:25.312669800Z"
    }
   },
   "id": "d238124ecf4729dd",
   "execution_count": 8
  },
  {
   "cell_type": "code",
   "outputs": [
    {
     "data": {
      "text/plain": "Eq(epsilon**4*Derivative(y_1(t), t)**3 + 3*epsilon**3*Derivative(y_0(t), t)*Derivative(y_1(t), t)**2 + 3*epsilon**2*Derivative(y_0(t), t)**2*Derivative(y_1(t), t) + epsilon*y_1(t) + epsilon*Derivative(y_0(t), t)**3 + epsilon*Derivative(y_1(t), t)/2 + epsilon*Derivative(y_1(t), (t, 2)) + y_0(t) + Derivative(y_0(t), t)/2 + Derivative(y_0(t), (t, 2)), 0)",
      "text/latex": "$\\displaystyle \\epsilon^{4} \\left(\\frac{d}{d t} y_{1}{\\left(t \\right)}\\right)^{3} + 3 \\epsilon^{3} \\frac{d}{d t} y_{0}{\\left(t \\right)} \\left(\\frac{d}{d t} y_{1}{\\left(t \\right)}\\right)^{2} + 3 \\epsilon^{2} \\left(\\frac{d}{d t} y_{0}{\\left(t \\right)}\\right)^{2} \\frac{d}{d t} y_{1}{\\left(t \\right)} + \\epsilon y_{1}{\\left(t \\right)} + \\epsilon \\left(\\frac{d}{d t} y_{0}{\\left(t \\right)}\\right)^{3} + \\frac{\\epsilon \\frac{d}{d t} y_{1}{\\left(t \\right)}}{2} + \\epsilon \\frac{d^{2}}{d t^{2}} y_{1}{\\left(t \\right)} + y_{0}{\\left(t \\right)} + \\frac{\\frac{d}{d t} y_{0}{\\left(t \\right)}}{2} + \\frac{d^{2}}{d t^{2}} y_{0}{\\left(t \\right)} = 0$"
     },
     "execution_count": 9,
     "metadata": {},
     "output_type": "execute_result"
    }
   ],
   "source": [
    "diff_eq2 = sp.expand(diff_eq2.doit())\n",
    "diff_eq2"
   ],
   "metadata": {
    "collapsed": false,
    "ExecuteTime": {
     "end_time": "2024-03-14T21:42:25.388671600Z",
     "start_time": "2024-03-14T21:42:25.343171400Z"
    }
   },
   "id": "acb6fba8cd6ec4d9",
   "execution_count": 9
  },
  {
   "cell_type": "code",
   "outputs": [
    {
     "data": {
      "text/plain": "epsilon**4*Derivative(y_1(t), t)**3 + 3*epsilon**3*Derivative(y_0(t), t)*Derivative(y_1(t), t)**2 + 3*epsilon**2*Derivative(y_0(t), t)**2*Derivative(y_1(t), t) + epsilon*(y_1(t) + Derivative(y_0(t), t)**3 + Derivative(y_1(t), t)/2 + Derivative(y_1(t), (t, 2))) + y_0(t) + Derivative(y_0(t), t)/2 + Derivative(y_0(t), (t, 2))",
      "text/latex": "$\\displaystyle \\epsilon^{4} \\left(\\frac{d}{d t} y_{1}{\\left(t \\right)}\\right)^{3} + 3 \\epsilon^{3} \\frac{d}{d t} y_{0}{\\left(t \\right)} \\left(\\frac{d}{d t} y_{1}{\\left(t \\right)}\\right)^{2} + 3 \\epsilon^{2} \\left(\\frac{d}{d t} y_{0}{\\left(t \\right)}\\right)^{2} \\frac{d}{d t} y_{1}{\\left(t \\right)} + \\epsilon \\left(y_{1}{\\left(t \\right)} + \\left(\\frac{d}{d t} y_{0}{\\left(t \\right)}\\right)^{3} + \\frac{\\frac{d}{d t} y_{1}{\\left(t \\right)}}{2} + \\frac{d^{2}}{d t^{2}} y_{1}{\\left(t \\right)}\\right) + y_{0}{\\left(t \\right)} + \\frac{\\frac{d}{d t} y_{0}{\\left(t \\right)}}{2} + \\frac{d^{2}}{d t^{2}} y_{0}{\\left(t \\right)}$"
     },
     "execution_count": 10,
     "metadata": {},
     "output_type": "execute_result"
    }
   ],
   "source": [
    "epsilon_expansion = sp.collect(diff_eq2.lhs, epsilon)\n",
    "epsilon_expansion"
   ],
   "metadata": {
    "collapsed": false,
    "ExecuteTime": {
     "end_time": "2024-03-14T21:42:25.415170300Z",
     "start_time": "2024-03-14T21:42:25.399672600Z"
    }
   },
   "id": "30fed5ea37c853f8",
   "execution_count": 10
  },
  {
   "cell_type": "markdown",
   "source": [
    "Now we extract terms which are free of $\\epsilon$, to get zeroth expansion"
   ],
   "metadata": {
    "collapsed": false
   },
   "id": "6ba2e764b65e24d8"
  },
  {
   "cell_type": "code",
   "outputs": [
    {
     "data": {
      "text/plain": "Eq(y_0(t) + Derivative(y_0(t), t)/2 + Derivative(y_0(t), (t, 2)), 0)",
      "text/latex": "$\\displaystyle y_{0}{\\left(t \\right)} + \\frac{\\frac{d}{d t} y_{0}{\\left(t \\right)}}{2} + \\frac{d^{2}}{d t^{2}} y_{0}{\\left(t \\right)} = 0$"
     },
     "execution_count": 11,
     "metadata": {},
     "output_type": "execute_result"
    }
   ],
   "source": [
    "eq0 = sp.Eq(epsilon_expansion.coeff(epsilon, 0), 0)\n",
    "eq0"
   ],
   "metadata": {
    "collapsed": false,
    "ExecuteTime": {
     "end_time": "2024-03-14T21:42:25.423672600Z",
     "start_time": "2024-03-14T21:42:25.408171700Z"
    }
   },
   "id": "da52d8cd86e90848",
   "execution_count": 11
  },
  {
   "cell_type": "markdown",
   "source": [
    "And now we get first order expansion (proportional to $\\epsilon$)"
   ],
   "metadata": {
    "collapsed": false
   },
   "id": "dc2f596f081b3141"
  },
  {
   "cell_type": "code",
   "outputs": [
    {
     "data": {
      "text/plain": "Eq(y_1(t) + Derivative(y_0(t), t)**3 + Derivative(y_1(t), t)/2 + Derivative(y_1(t), (t, 2)), 0)",
      "text/latex": "$\\displaystyle y_{1}{\\left(t \\right)} + \\left(\\frac{d}{d t} y_{0}{\\left(t \\right)}\\right)^{3} + \\frac{\\frac{d}{d t} y_{1}{\\left(t \\right)}}{2} + \\frac{d^{2}}{d t^{2}} y_{1}{\\left(t \\right)} = 0$"
     },
     "execution_count": 12,
     "metadata": {},
     "output_type": "execute_result"
    }
   ],
   "source": [
    "eq1 = sp.Eq(epsilon_expansion.coeff(epsilon, 1), 0)\n",
    "eq1"
   ],
   "metadata": {
    "collapsed": false,
    "ExecuteTime": {
     "end_time": "2024-03-14T21:42:25.458171500Z",
     "start_time": "2024-03-14T21:42:25.433171800Z"
    }
   },
   "id": "9a2cd3fac99443c2",
   "execution_count": 12
  },
  {
   "cell_type": "markdown",
   "source": [
    "Let's specify initial conditions"
   ],
   "metadata": {
    "collapsed": false
   },
   "id": "58024cf6746d0e09"
  },
  {
   "cell_type": "code",
   "outputs": [],
   "source": [
    "ics_y0 = {y_n[0].subs(t, 0): 1, y_n[0].diff(t).subs(t, 0): 0}"
   ],
   "metadata": {
    "collapsed": false,
    "ExecuteTime": {
     "end_time": "2024-03-14T21:42:25.478174100Z",
     "start_time": "2024-03-14T21:42:25.453671900Z"
    }
   },
   "id": "e59aa4627b9c7907",
   "execution_count": 13
  },
  {
   "cell_type": "code",
   "outputs": [
    {
     "data": {
      "text/plain": "Eq(y_0(t), sqrt(15)*exp(-t/4)*sin(sqrt(15)*t/4)/15 + exp(-t/4)*cos(sqrt(15)*t/4))",
      "text/latex": "$\\displaystyle y_{0}{\\left(t \\right)} = \\frac{\\sqrt{15} e^{- \\frac{t}{4}} \\sin{\\left(\\frac{\\sqrt{15} t}{4} \\right)}}{15} + e^{- \\frac{t}{4}} \\cos{\\left(\\frac{\\sqrt{15} t}{4} \\right)}$"
     },
     "execution_count": 14,
     "metadata": {},
     "output_type": "execute_result"
    }
   ],
   "source": [
    "sol1 = sp.expand(sp.dsolve(eq0, y_n[0], ics=ics_y0))\n",
    "sol1"
   ],
   "metadata": {
    "collapsed": false,
    "ExecuteTime": {
     "end_time": "2024-03-14T21:42:25.884172200Z",
     "start_time": "2024-03-14T21:42:25.469671400Z"
    }
   },
   "id": "eb4c7c51713706b2",
   "execution_count": 14
  },
  {
   "cell_type": "markdown",
   "source": [
    "Now let's substitute $y_0(t)$ to eq1"
   ],
   "metadata": {
    "collapsed": false
   },
   "id": "e39fd8fc1b92bc75"
  },
  {
   "cell_type": "code",
   "outputs": [],
   "source": [
    "ics_y1 = {y_n[1].subs(t, 0): 0, y_n[1].diff(t).subs(t, 0): 0}"
   ],
   "metadata": {
    "collapsed": false,
    "ExecuteTime": {
     "end_time": "2024-03-14T21:42:25.908172400Z",
     "start_time": "2024-03-14T21:42:25.885670900Z"
    }
   },
   "id": "f8f800e4f50b7715",
   "execution_count": 15
  },
  {
   "cell_type": "code",
   "outputs": [
    {
     "data": {
      "text/plain": "Eq(y_1(t), ((4*sqrt(15)*Integral(exp(t/4)*sin(sqrt(15)*t/4)*Derivative(y_0(t), t)**3, t)/15 - 4*sqrt(15)*Integral(exp(t/4)*sin(sqrt(15)*t/4)*Derivative(y_0(t), t)**3, (t, 0))/15)*cos(sqrt(15)*t/4) + (-4*sqrt(15)*Integral(exp(t/4)*cos(sqrt(15)*t/4)*Derivative(y_0(t), t)**3, t)/15 + 4*sqrt(15)*Integral(exp(t/4)*cos(sqrt(15)*t/4)*Derivative(y_0(t), t)**3, (t, 0))/15)*sin(sqrt(15)*t/4))*exp(-t/4))",
      "text/latex": "$\\displaystyle y_{1}{\\left(t \\right)} = \\left(\\left(\\frac{4 \\sqrt{15} \\int e^{\\frac{t}{4}} \\sin{\\left(\\frac{\\sqrt{15} t}{4} \\right)} \\left(\\frac{d}{d t} y_{0}{\\left(t \\right)}\\right)^{3}\\, dt}{15} - \\frac{4 \\sqrt{15} \\int\\limits^{0} e^{\\frac{t}{4}} \\sin{\\left(\\frac{\\sqrt{15} t}{4} \\right)} \\left(\\frac{d}{d t} y_{0}{\\left(t \\right)}\\right)^{3}\\, dt}{15}\\right) \\cos{\\left(\\frac{\\sqrt{15} t}{4} \\right)} + \\left(- \\frac{4 \\sqrt{15} \\int e^{\\frac{t}{4}} \\cos{\\left(\\frac{\\sqrt{15} t}{4} \\right)} \\left(\\frac{d}{d t} y_{0}{\\left(t \\right)}\\right)^{3}\\, dt}{15} + \\frac{4 \\sqrt{15} \\int\\limits^{0} e^{\\frac{t}{4}} \\cos{\\left(\\frac{\\sqrt{15} t}{4} \\right)} \\left(\\frac{d}{d t} y_{0}{\\left(t \\right)}\\right)^{3}\\, dt}{15}\\right) \\sin{\\left(\\frac{\\sqrt{15} t}{4} \\right)}\\right) e^{- \\frac{t}{4}}$"
     },
     "execution_count": 16,
     "metadata": {},
     "output_type": "execute_result"
    }
   ],
   "source": [
    "sol2 = sp.dsolve(eq1, y_n[1], ics=ics_y1).doit()\n",
    "sol2"
   ],
   "metadata": {
    "collapsed": false,
    "ExecuteTime": {
     "end_time": "2024-03-14T21:46:35.682173500Z",
     "start_time": "2024-03-14T21:42:25.901671200Z"
    }
   },
   "id": "36a1778947340183",
   "execution_count": 16
  },
  {
   "cell_type": "code",
   "outputs": [
    {
     "data": {
      "text/plain": "Eq(y_1(t), 8*sqrt(15)*exp(-t/4)*sin(sqrt(15)*t/4)/305 - 48*exp(-t/4)*cos(sqrt(15)*t/4)/61 + 616*sqrt(15)*exp(-3*t/4)*sin(sqrt(15)*t/4)**5/13725 + 256*exp(-3*t/4)*sin(sqrt(15)*t/4)**4*cos(sqrt(15)*t/4)/305 + 1696*sqrt(15)*exp(-3*t/4)*sin(sqrt(15)*t/4)**3*cos(sqrt(15)*t/4)**2/13725 + 496*exp(-3*t/4)*sin(sqrt(15)*t/4)**2*cos(sqrt(15)*t/4)**3/305 + 24*sqrt(15)*exp(-3*t/4)*sin(sqrt(15)*t/4)*cos(sqrt(15)*t/4)**4/305 + 48*exp(-3*t/4)*cos(sqrt(15)*t/4)**5/61)",
      "text/latex": "$\\displaystyle y_{1}{\\left(t \\right)} = \\frac{8 \\sqrt{15} e^{- \\frac{t}{4}} \\sin{\\left(\\frac{\\sqrt{15} t}{4} \\right)}}{305} - \\frac{48 e^{- \\frac{t}{4}} \\cos{\\left(\\frac{\\sqrt{15} t}{4} \\right)}}{61} + \\frac{616 \\sqrt{15} e^{- \\frac{3 t}{4}} \\sin^{5}{\\left(\\frac{\\sqrt{15} t}{4} \\right)}}{13725} + \\frac{256 e^{- \\frac{3 t}{4}} \\sin^{4}{\\left(\\frac{\\sqrt{15} t}{4} \\right)} \\cos{\\left(\\frac{\\sqrt{15} t}{4} \\right)}}{305} + \\frac{1696 \\sqrt{15} e^{- \\frac{3 t}{4}} \\sin^{3}{\\left(\\frac{\\sqrt{15} t}{4} \\right)} \\cos^{2}{\\left(\\frac{\\sqrt{15} t}{4} \\right)}}{13725} + \\frac{496 e^{- \\frac{3 t}{4}} \\sin^{2}{\\left(\\frac{\\sqrt{15} t}{4} \\right)} \\cos^{3}{\\left(\\frac{\\sqrt{15} t}{4} \\right)}}{305} + \\frac{24 \\sqrt{15} e^{- \\frac{3 t}{4}} \\sin{\\left(\\frac{\\sqrt{15} t}{4} \\right)} \\cos^{4}{\\left(\\frac{\\sqrt{15} t}{4} \\right)}}{305} + \\frac{48 e^{- \\frac{3 t}{4}} \\cos^{5}{\\left(\\frac{\\sqrt{15} t}{4} \\right)}}{61}$"
     },
     "execution_count": 17,
     "metadata": {},
     "output_type": "execute_result"
    }
   ],
   "source": [
    "sol2 = sp.expand(sol2.subs(y_n[0], sol1.rhs).doit())\n",
    "sol2"
   ],
   "metadata": {
    "collapsed": false,
    "ExecuteTime": {
     "end_time": "2024-03-14T21:46:40.843211200Z",
     "start_time": "2024-03-14T21:46:35.743214900Z"
    }
   },
   "id": "a46b2396dd0c76cc",
   "execution_count": 17
  },
  {
   "cell_type": "code",
   "outputs": [
    {
     "data": {
      "text/plain": "epsilon*(8*sqrt(15)*exp(-t/4)*sin(sqrt(15)*t/4)/305 - 48*exp(-t/4)*cos(sqrt(15)*t/4)/61 + 616*sqrt(15)*exp(-3*t/4)*sin(sqrt(15)*t/4)**5/13725 + 256*exp(-3*t/4)*sin(sqrt(15)*t/4)**4*cos(sqrt(15)*t/4)/305 + 1696*sqrt(15)*exp(-3*t/4)*sin(sqrt(15)*t/4)**3*cos(sqrt(15)*t/4)**2/13725 + 496*exp(-3*t/4)*sin(sqrt(15)*t/4)**2*cos(sqrt(15)*t/4)**3/305 + 24*sqrt(15)*exp(-3*t/4)*sin(sqrt(15)*t/4)*cos(sqrt(15)*t/4)**4/305 + 48*exp(-3*t/4)*cos(sqrt(15)*t/4)**5/61) + sqrt(15)*exp(-t/4)*sin(sqrt(15)*t/4)/15 + exp(-t/4)*cos(sqrt(15)*t/4)",
      "text/latex": "$\\displaystyle \\epsilon \\left(\\frac{8 \\sqrt{15} e^{- \\frac{t}{4}} \\sin{\\left(\\frac{\\sqrt{15} t}{4} \\right)}}{305} - \\frac{48 e^{- \\frac{t}{4}} \\cos{\\left(\\frac{\\sqrt{15} t}{4} \\right)}}{61} + \\frac{616 \\sqrt{15} e^{- \\frac{3 t}{4}} \\sin^{5}{\\left(\\frac{\\sqrt{15} t}{4} \\right)}}{13725} + \\frac{256 e^{- \\frac{3 t}{4}} \\sin^{4}{\\left(\\frac{\\sqrt{15} t}{4} \\right)} \\cos{\\left(\\frac{\\sqrt{15} t}{4} \\right)}}{305} + \\frac{1696 \\sqrt{15} e^{- \\frac{3 t}{4}} \\sin^{3}{\\left(\\frac{\\sqrt{15} t}{4} \\right)} \\cos^{2}{\\left(\\frac{\\sqrt{15} t}{4} \\right)}}{13725} + \\frac{496 e^{- \\frac{3 t}{4}} \\sin^{2}{\\left(\\frac{\\sqrt{15} t}{4} \\right)} \\cos^{3}{\\left(\\frac{\\sqrt{15} t}{4} \\right)}}{305} + \\frac{24 \\sqrt{15} e^{- \\frac{3 t}{4}} \\sin{\\left(\\frac{\\sqrt{15} t}{4} \\right)} \\cos^{4}{\\left(\\frac{\\sqrt{15} t}{4} \\right)}}{305} + \\frac{48 e^{- \\frac{3 t}{4}} \\cos^{5}{\\left(\\frac{\\sqrt{15} t}{4} \\right)}}{61}\\right) + \\frac{\\sqrt{15} e^{- \\frac{t}{4}} \\sin{\\left(\\frac{\\sqrt{15} t}{4} \\right)}}{15} + e^{- \\frac{t}{4}} \\cos{\\left(\\frac{\\sqrt{15} t}{4} \\right)}$"
     },
     "execution_count": 18,
     "metadata": {},
     "output_type": "execute_result"
    }
   ],
   "source": [
    "sol = P.subs([(y_n[0], sol1.rhs), (y_n[1], sol2.rhs)])\n",
    "sol"
   ],
   "metadata": {
    "collapsed": false,
    "ExecuteTime": {
     "end_time": "2024-03-14T21:46:40.874708700Z",
     "start_time": "2024-03-14T21:46:40.844711Z"
    }
   },
   "id": "38ddb275011709e3",
   "execution_count": 18
  },
  {
   "cell_type": "markdown",
   "source": [
    "## Plotting the solution"
   ],
   "metadata": {
    "collapsed": false
   },
   "id": "6ecfe9a75120edcc"
  },
  {
   "cell_type": "code",
   "outputs": [],
   "source": [
    "quality = 200\n",
    "a, b = 0, 20\n",
    "x_values = np.linspace(a, b, quality)\n",
    "initial_y_yprim = [1, 0]\n",
    "epsilon_values = [0.1, 0.5, 1.0]\n",
    "y_analytic_list = []\n",
    "y_numeric_list = []"
   ],
   "metadata": {
    "collapsed": false,
    "ExecuteTime": {
     "end_time": "2024-03-14T22:19:00.709498400Z",
     "start_time": "2024-03-14T22:19:00.689998300Z"
    }
   },
   "id": "152c15679ff76252",
   "execution_count": 33
  },
  {
   "cell_type": "code",
   "outputs": [],
   "source": [
    "for epsilon_value in epsilon_values:\n",
    "    sol_with_epsilon = sol.subs(epsilon, epsilon_value).doit()\n",
    "    y_values = evaluate_function(sol_with_epsilon, t, x_values)\n",
    "    y_analytic_list.append(y_values)\n",
    "    \n",
    "    num_equation = diff_eq.subs(epsilon, epsilon_value).doit()\n",
    "    x_num, y_num = solve_second_order_differential_equation(num_equation, t, y, a, b, 0, initial_y_yprim, quality)\n",
    "    y_numeric_list.append(y_num)"
   ],
   "metadata": {
    "collapsed": false,
    "ExecuteTime": {
     "end_time": "2024-03-14T22:19:03.707770Z",
     "start_time": "2024-03-14T22:19:03.539250300Z"
    }
   },
   "id": "639acee3054a79c3",
   "execution_count": 34
  },
  {
   "cell_type": "code",
   "outputs": [
    {
     "data": {
      "text/plain": "<Figure size 1200x500 with 3 Axes>",
      "image/png": "[encoded data removed]"
     },
     "metadata": {},
     "output_type": "display_data"
    }
   ],
   "source": [
    "figure, axes = plt.subplots(1, len(epsilon_values), layout='constrained', figsize=(12, 5))\n",
    "for ax, y_analytic, y_numeric, epsilon_value in zip(figure.axes, y_analytic_list, y_numeric_list, epsilon_values):\n",
    "    ax.plot(x_values, y_analytic, label=f'analytic', color='blue', linewidth=2, linestyle='--')\n",
    "    ax.plot(x_values, y_numeric[0], label='numeric', color='maroon')\n",
    "    ax.set(title=f'$y(t)$ for ${sp.latex(epsilon)} = {sp.latex(epsilon_value)}$ and $a = {a_value}$', xlabel='t', ylabel='y(t)')\n",
    "    ax.grid()\n",
    "    ax.legend()"
   ],
   "metadata": {
    "collapsed": false,
    "ExecuteTime": {
     "end_time": "2024-03-14T22:26:47.273178500Z",
     "start_time": "2024-03-14T22:26:46.492178800Z"
    }
   },
   "id": "a9950144bba25f0",
   "execution_count": 40
  },
  {
   "cell_type": "code",
   "outputs": [],
   "source": [],
   "metadata": {
    "collapsed": false,
    "ExecuteTime": {
     "end_time": "2024-03-14T21:46:41.481707Z",
     "start_time": "2024-03-14T21:46:41.356209800Z"
    }
   },
   "id": "b85effa9e36bbad",
   "execution_count": 25
  }
 ],
 "metadata": {
  "kernelspec": {
   "display_name": "Python 3",
   "language": "python",
   "name": "python3"
  },
  "language_info": {
   "codemirror_mode": {
    "name": "ipython",
    "version": 2
   },
   "file_extension": ".py",
   "mimetype": "text/x-python",
   "name": "python",
   "nbconvert_exporter": "python",
   "pygments_lexer": "ipython2",
   "version": "2.7.6"
  }
 },
 "nbformat": 4,
 "nbformat_minor": 5
}
